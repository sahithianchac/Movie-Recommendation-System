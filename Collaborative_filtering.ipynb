{
 "cells": [
  {
   "cell_type": "code",
   "execution_count": 5,
   "metadata": {},
   "outputs": [],
   "source": [
    "#INTODUCTION TO COLLABORATIVE FILTERING \n",
    "#Here we are having a matrix which shows the ratings given by a praticular user for various movies. Of course all users would not give ratings for all the movies. So with the help of \n",
    "#collaborative filtering we are trying to predict the rating which the user might have given to the movies he hasnt rate yet.Here\n",
    "#the ratings of other users are also taken into consideration. Hence the name collaborative\n",
    "\n",
    "\n",
    "#importing the required libraries\n",
    "\n",
    "#we are usign the dataser form ratings_small.csv which is samller verison of the original dataset. We cann however use the original data set as well \n",
    "#but takes a very long time\n",
    "\n",
    "import pandas as pd\n",
    "import surprise\n",
    "ratings= pd.read_csv(\"ratings_small.csv\")"
   ]
  },
  {
   "cell_type": "code",
   "execution_count": 6,
   "metadata": {},
   "outputs": [],
   "source": [
    "#we have used the surpise library which takes care of the Single Value Decompostion\n",
    "from surprise import Reader\n",
    "from surprise import Dataset\n",
    "#from surprise import evaluate\n",
    "from surprise import SVD\n"
   ]
  },
  {
   "cell_type": "code",
   "execution_count": 7,
   "metadata": {},
   "outputs": [],
   "source": [
    "#discarding the timestamp column which is very useless\n",
    "ratings=ratings.drop(['timestamp'],axis=1)"
   ]
  },
  {
   "cell_type": "code",
   "execution_count": 8,
   "metadata": {},
   "outputs": [
    {
     "name": "stdout",
     "output_type": "stream",
     "text": [
      "0.9076661835652069\n"
     ]
    }
   ],
   "source": [
    "from surprise.model_selection import cross_validate\n",
    "\n",
    "from surprise.model_selection import GridSearchCV\n",
    "\n",
    "\n",
    "reader=Reader()\n",
    "data = Dataset.load_from_df(ratings,reader)\n",
    "#using GridSearch from Suprise library\n",
    "\n",
    "#here number of epochs,learning rate,regularization Parameter.\n",
    "\n",
    "#we are trying to optimise our algorithm by hypertuning our parameters\n",
    "\n",
    "param_grid = {\n",
    "    \"n_epochs\": [5, 10, 15],\n",
    "    \"lr_all\": [0.001,0.002, 0.003],\n",
    "    \"reg_all\": [0.01, 0.02, 0.03]\n",
    "}\n",
    "gs = GridSearchCV(SVD, param_grid, measures=[\"rmse\", \"mae\"], cv=3,n_jobs=-1)\n",
    "gs.fit(data)\n",
    "a = gs.best_params[\"rmse\"]\n",
    "print(gs.best_score[\"rmse\"])"
   ]
  },
  {
   "cell_type": "code",
   "execution_count": 9,
   "metadata": {},
   "outputs": [],
   "source": [
    "reader=Reader()\n",
    "algo = SVD(n_epochs = a['n_epochs'] ,lr_all =  a['lr_all'], reg_all = a['reg_all'])\n",
    "\n"
   ]
  },
  {
   "cell_type": "code",
   "execution_count": 10,
   "metadata": {},
   "outputs": [
    {
     "name": "stdout",
     "output_type": "stream",
     "text": [
      "Evaluating RMSE, MAE of algorithm SVD on 4 split(s).\n",
      "\n",
      "                  Fold 1  Fold 2  Fold 3  Fold 4  Mean    Std     \n",
      "RMSE (testset)    0.9092  0.9044  0.9095  0.8951  0.9046  0.0058  \n",
      "MAE (testset)     0.7022  0.6977  0.7032  0.6926  0.6989  0.0042  \n",
      "Fit time          3.06    3.09    3.07    3.07    3.07    0.01    \n",
      "Test time         0.20    0.22    0.21    0.22    0.21    0.01    \n"
     ]
    },
    {
     "data": {
      "text/plain": [
       "{'test_rmse': array([0.90921276, 0.9044303 , 0.90951276, 0.89513909]),\n",
       " 'test_mae': array([0.7021506 , 0.69772128, 0.70316369, 0.69256751]),\n",
       " 'fit_time': (3.060966968536377,\n",
       "  3.0895118713378906,\n",
       "  3.071460008621216,\n",
       "  3.0747227668762207),\n",
       " 'test_time': (0.2030940055847168,\n",
       "  0.21695518493652344,\n",
       "  0.21354174613952637,\n",
       "  0.21617889404296875)}"
      ]
     },
     "execution_count": 10,
     "metadata": {},
     "output_type": "execute_result"
    }
   ],
   "source": [
    "#performing cross validation (using 4 folds)\n",
    "cross_validate(algo, data, measures=['RMSE', 'MAE'], cv=4, verbose=True)"
   ]
  },
  {
   "cell_type": "code",
   "execution_count": 11,
   "metadata": {},
   "outputs": [
    {
     "data": {
      "text/plain": [
       "<surprise.prediction_algorithms.matrix_factorization.SVD at 0x11e8f1a90>"
      ]
     },
     "execution_count": 11,
     "metadata": {},
     "output_type": "execute_result"
    }
   ],
   "source": [
    "#here we need entire data to be trained so we take an inbuilt function called build_full_trainset\n",
    "training_data = data.build_full_trainset()\n",
    "algo.fit(training_data)\n"
   ]
  },
  {
   "cell_type": "code",
   "execution_count": 12,
   "metadata": {},
   "outputs": [
    {
     "data": {
      "text/plain": [
       "Prediction(uid=1, iid=580, r_ui=None, est=2.8731420369225784, details={'was_impossible': False})"
      ]
     },
     "execution_count": 12,
     "metadata": {},
     "output_type": "execute_result"
    }
   ],
   "source": [
    "#We can predict how much ratings the user may give for a perticular movie.\n",
    "algo.predict(1,580)"
   ]
  },
  {
   "cell_type": "code",
   "execution_count": null,
   "metadata": {},
   "outputs": [],
   "source": []
  }
 ],
 "metadata": {
  "kernelspec": {
   "display_name": "Python 3",
   "language": "python",
   "name": "python3"
  },
  "language_info": {
   "codemirror_mode": {
    "name": "ipython",
    "version": 3
   },
   "file_extension": ".py",
   "mimetype": "text/x-python",
   "name": "python",
   "nbconvert_exporter": "python",
   "pygments_lexer": "ipython3",
   "version": "3.7.4"
  }
 },
 "nbformat": 4,
 "nbformat_minor": 2
}
