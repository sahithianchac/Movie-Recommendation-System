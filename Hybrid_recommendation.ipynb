{
 "cells": [
  {
   "cell_type": "code",
   "execution_count": 3,
   "metadata": {},
   "outputs": [
    {
     "data": {
      "text/plain": [
       "True"
      ]
     },
     "execution_count": 3,
     "metadata": {},
     "output_type": "execute_result"
    }
   ],
   "source": [
    "import pandas as pd\n",
    "data_credits= pd.read_csv(\"credits.csv\")\n",
    "metadata= pd.read_csv(\"movies_metadata.csv\",low_memory=False)\n",
    "metadata['id'] = metadata['id'].apply(pd.to_numeric, errors='coerce')\n",
    "combined= pd.merge(metadata,data_credits,on='id',how='inner')\n",
    "combined.head()\n",
    "combined['overview'].isnull().any()"
   ]
  },
  {
   "cell_type": "code",
   "execution_count": 4,
   "metadata": {},
   "outputs": [],
   "source": [
    "\n",
    "import pandas as pd\n",
    "import json\n",
    "from ast import literal_eval\n",
    "pd.options.display.max_columns = None\n",
    "pd.options.display.max_rows = None\n",
    "df=combined\n",
    "columns=['genres','cast','crew']\n",
    "def  get_value(x):\n",
    "    l = []\n",
    "    if isinstance(x,list):\n",
    "        for i in x:\n",
    "               l.append(i['name'])\n",
    "        return ' '.join(l)\n",
    "    return []\n",
    "\n",
    "for column in columns:\n",
    "    df[column] = df[column].apply(literal_eval)\n",
    "    df[column] = df[column].apply(get_value)\n",
    "\n",
    "#converting the columns from json format to string format\n",
    "use_columns=['title','overview','genres','cast','crew']\n",
    "df2=pd.DataFrame(df,columns=use_columns)\n",
    "df2['combined'] = df2[df2.columns[1:]].apply(lambda x: ' '.join(x.dropna().astype(str)),axis=1)"
   ]
  },
  {
   "cell_type": "code",
   "execution_count": 5,
   "metadata": {},
   "outputs": [],
   "source": [
    "combined['overview'] = combined['overview'].fillna(\"\")"
   ]
  },
  {
   "cell_type": "code",
   "execution_count": 6,
   "metadata": {},
   "outputs": [],
   "source": [
    "#using TfidfVectorizer for extracting the text features\n",
    "from sklearn.feature_extraction.text import TfidfVectorizer\n",
    "tf_idf = TfidfVectorizer(analyzer='word',min_df=0,stop_words='english')\n",
    "tf_idf_matrix= tf_idf.fit_transform(df2['combined'])\n",
    "from sklearn.metrics.pairwise import linear_kernel\n",
    "cosine= linear_kernel(tf_idf_matrix, tf_idf_matrix)\n",
    "ids = pd.Series(df2.index, index=df2['title'])\n",
    "ids= ids.drop_duplicates()"
   ]
  },
  {
   "cell_type": "code",
   "execution_count": 7,
   "metadata": {},
   "outputs": [],
   "source": [
    "#content_based_recommendation\n",
    "def content_based_recommendation(title, cosine=cosine):\n",
    "    indexes = ids[title]\n",
    "    similarity = list(enumerate(cosine[indexes]))\n",
    "    similarity = sorted(similarity, key=lambda x: x[1], reverse=True)\n",
    "    movie_ids = [i[0] for i in similarity]\n",
    "    result= df2['title'].iloc[movie_ids]\n",
    "    result=result[1:100]\n",
    "    return result"
   ]
  },
  {
   "cell_type": "code",
   "execution_count": 8,
   "metadata": {},
   "outputs": [
    {
     "data": {
      "text/plain": [
       "<surprise.prediction_algorithms.matrix_factorization.SVD at 0x125b67ed0>"
      ]
     },
     "execution_count": 8,
     "metadata": {},
     "output_type": "execute_result"
    }
   ],
   "source": [
    "#collaborative filtering with SVD\n",
    "import pandas as pd\n",
    "ratings= pd.read_csv(\"ratings_small.csv\")\n",
    "import surprise\n",
    "from surprise import Reader\n",
    "from surprise import Dataset\n",
    "from surprise import SVD\n",
    "from surprise.model_selection import cross_validate\n",
    "\n",
    "ratings=ratings.drop(['timestamp'],axis=1)\n",
    "reader=Reader()\n",
    "algo = SVD()\n",
    "data = Dataset.load_from_df(ratings,reader=reader)\n",
    "training_data = data.build_full_trainset()\n",
    "algo.fit(training_data)"
   ]
  },
  {
   "cell_type": "code",
   "execution_count": 18,
   "metadata": {},
   "outputs": [
    {
     "name": "stdout",
     "output_type": "stream",
     "text": [
      "The top 10 recommendations of the hybrid reommendation system are\n",
      "                                                title  user_rating\n",
      "19                                         The Jackal     3.369538\n",
      "37                                   The Elephant Man     3.178567\n",
      "41                              From Russia with Love     3.023502\n",
      "40  Pirates of the Caribbean: The Curse of the Bla...     3.021528\n",
      "10                                 Return of the Jedi     2.953069\n",
      "9            Harry Potter and the Philosopher's Stone     2.948985\n",
      "23           Harry Potter and the Prisoner of Azkaban     2.918307\n",
      "15                               The Spy Who Loved Me     2.902927\n",
      "45                      The First Great Train Robbery     2.808555\n",
      "22                                         Die Hard 2     2.805611\n"
     ]
    }
   ],
   "source": [
    "#Hybrid recommendation \n",
    "def hybrid_recommender(user_id,title):\n",
    "    #obtaining the similar movies from content_based_recommendation\n",
    "    similar_movies=content_based_recommendation(title)\n",
    "    \n",
    "    #creating a dataframe from similar_movies\n",
    "    movie_id=pd.Series(similar_movies.index.values.tolist())\n",
    "    title=pd.Series(similar_movies.values)\n",
    "    df = { 'movieId':movie_id , 'title': title } \n",
    "    df_movies = pd.DataFrame(df)\n",
    "    \n",
    "    #merging the movies from similar_movies with ratings\n",
    "    similar_movies_id=pd.merge(df_movies,ratings,how='inner',on='movieId')\n",
    "    \n",
    "    #Identifying movies which have not been rated by the current user\n",
    "    user_new_movies=similar_movies_id[similar_movies_id['userId']!=user_id]\n",
    "    \n",
    "    #selecting the unique movies from user_new_movies\n",
    "    unique_movies= user_new_movies.drop_duplicates('movieId')\n",
    "    \n",
    "    colab_result=[]\n",
    "    \n",
    "    #For each movieId in unique_movies and for the current user, we predict the estimated ratings from collaborative filtering\n",
    "    #with SVD\n",
    "    for i in unique_movies['movieId']:\n",
    "        colab_result.append(algo.predict(user_id,i)[3])\n",
    "    \n",
    "    movie_ratings=pd.DataFrame(colab_result)\n",
    "    unique_movies.reset_index(drop=True, inplace=True)\n",
    "    \n",
    "    #We concatenate the estimated user ratings with the unique_movies to obtain hybrid_rating\n",
    "    hybrid_rating=pd.concat([unique_movies,movie_ratings],ignore_index=True,axis=1)\n",
    "    hybrid_rating.columns=['movieId','title','userId','rating','user_rating']\n",
    "    \n",
    "    #We sort the hybrid_ratings based on the estimated user ratings\n",
    "    hybrid_rating.sort_values('user_rating',ascending=False,inplace=True)\n",
    "    \n",
    "    #Finally we return the remmondations from hybris recommendation\n",
    "    return hybrid_rating[['title','user_rating']][:10]\n",
    "\n",
    "print(\"The top 10 recommendations of the hybrid reommendation system are\")\n",
    "print(hybrid_recommender(1,'GoldenEye'))\n",
    "    "
   ]
  },
  {
   "cell_type": "code",
   "execution_count": null,
   "metadata": {},
   "outputs": [],
   "source": []
  }
 ],
 "metadata": {
  "kernelspec": {
   "display_name": "Python 3",
   "language": "python",
   "name": "python3"
  },
  "language_info": {
   "codemirror_mode": {
    "name": "ipython",
    "version": 3
   },
   "file_extension": ".py",
   "mimetype": "text/x-python",
   "name": "python",
   "nbconvert_exporter": "python",
   "pygments_lexer": "ipython3",
   "version": "3.7.4"
  }
 },
 "nbformat": 4,
 "nbformat_minor": 2
}
